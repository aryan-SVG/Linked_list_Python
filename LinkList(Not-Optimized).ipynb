{
 "cells": [
  {
   "cell_type": "code",
   "execution_count": 6,
   "id": "c230f0cf",
   "metadata": {},
   "outputs": [
    {
     "name": "stdout",
     "output_type": "stream",
     "text": [
      "1 2 3 4 -1\n",
      "1->2->3->4->None\n"
     ]
    }
   ],
   "source": [
    "class Node():\n",
    "    def __init__(self,data):\n",
    "        self.data=data\n",
    "        self.next=None\n",
    "        \n",
    "def printLL(head): \n",
    "    while head is not None:\n",
    "        print(str(head.data)+\"->\" ,end=\"\")\n",
    "        head=head.next\n",
    "    print(\"None\")    \n",
    "    \n",
    "    \n",
    "    \n",
    "    \n",
    "def takeInput():\n",
    "    inputList=[int(e) for e in input().split()]\n",
    "    head=None\n",
    "    for currdata in inputList:\n",
    "        if currdata== -1:\n",
    "            break\n",
    "        newnode=Node(currdata)\n",
    "        if head is None:\n",
    "            head=newnode\n",
    "        else:\n",
    "            curr=head\n",
    "            while curr.next is not None:\n",
    "                curr=curr.next\n",
    "            curr.next=newnode\n",
    "            \n",
    "    return head        \n",
    "         \n",
    "\n",
    "    \n",
    "head=takeInput()\n",
    "printLL(head)\n",
    "#0(n^2)\n"
   ]
  },
  {
   "cell_type": "code",
   "execution_count": null,
   "id": "b4d1c63c",
   "metadata": {},
   "outputs": [],
   "source": []
  }
 ],
 "metadata": {
  "kernelspec": {
   "display_name": "Python 3 (ipykernel)",
   "language": "python",
   "name": "python3"
  },
  "language_info": {
   "codemirror_mode": {
    "name": "ipython",
    "version": 3
   },
   "file_extension": ".py",
   "mimetype": "text/x-python",
   "name": "python",
   "nbconvert_exporter": "python",
   "pygments_lexer": "ipython3",
   "version": "3.9.12"
  }
 },
 "nbformat": 4,
 "nbformat_minor": 5
}
