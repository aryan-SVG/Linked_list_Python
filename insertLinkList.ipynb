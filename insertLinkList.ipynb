{
 "cells": [
  {
   "cell_type": "code",
   "execution_count": 7,
   "id": "2bca8308",
   "metadata": {},
   "outputs": [
    {
     "name": "stdout",
     "output_type": "stream",
     "text": [
      "1 2 3 4 5 -1\n",
      "1->2->6->3->4->5->None\n",
      "6\n"
     ]
    }
   ],
   "source": [
    "class Node():\n",
    "    def __init__(self,data):\n",
    "        self.data=data\n",
    "        self.next=None\n",
    "        \n",
    "def lengthLL(head):\n",
    "    count=0\n",
    "    while head is not None:\n",
    "        count=count+1\n",
    "        head=head.next\n",
    "    return count    \n",
    "\n",
    "def insertNode(head,i,data):\n",
    "    \n",
    "    if i<0 and i>lengthLL(head):\n",
    "        return head\n",
    "    count=0\n",
    "    prev=None\n",
    "    curr=head\n",
    "    while count<i: #0<2,1<2,2<2\n",
    "        count=count+1\n",
    "        prev=curr\n",
    "        curr=curr.next\n",
    "        \n",
    "    newNode=Node(data)\n",
    "    if prev is not None:\n",
    "        prev.next=newNode\n",
    "    else:\n",
    "        head=newNode\n",
    "    newNode.next=curr\n",
    "    return head \n",
    "\n",
    "\n",
    "\n",
    "\n",
    "def printLL(head):\n",
    "    while head is not None:\n",
    "        print(str(head.data)+\"->\",end=\"\")\n",
    "        head=head.next\n",
    "    print(\"None\")    \n",
    "        \n",
    "def takeInput():\n",
    "    inputList=[int(e) for e in input().split()]\n",
    "    head=None\n",
    "    tail=None\n",
    "    \n",
    "    for currData in inputList:\n",
    "        if currData==-1:\n",
    "            break\n",
    "        newNode=Node(currData)\n",
    "        \n",
    "        if head is None:\n",
    "            head=newNode\n",
    "            tail=newNode\n",
    "        else:\n",
    "            tail.next=newNode\n",
    "            tail=newNode\n",
    "    return head\n",
    "\n",
    "head=takeInput()\n",
    "insertNode(head,2,6)\n",
    "printLL(head)\n",
    "print(lengthLL(head))    "
   ]
  },
  {
   "cell_type": "code",
   "execution_count": null,
   "id": "7be783a3",
   "metadata": {},
   "outputs": [],
   "source": []
  }
 ],
 "metadata": {
  "kernelspec": {
   "display_name": "Python 3 (ipykernel)",
   "language": "python",
   "name": "python3"
  },
  "language_info": {
   "codemirror_mode": {
    "name": "ipython",
    "version": 3
   },
   "file_extension": ".py",
   "mimetype": "text/x-python",
   "name": "python",
   "nbconvert_exporter": "python",
   "pygments_lexer": "ipython3",
   "version": "3.9.12"
  }
 },
 "nbformat": 4,
 "nbformat_minor": 5
}
