{
 "cells": [
  {
   "cell_type": "code",
   "execution_count": 1,
   "id": "5a80d485",
   "metadata": {},
   "outputs": [
    {
     "name": "stdout",
     "output_type": "stream",
     "text": [
      "<__main__.Node object at 0x118a78f10>\n",
      "<__main__.Node object at 0x118a78400>\n",
      "<__main__.Node object at 0x118a78400>\n"
     ]
    }
   ],
   "source": [
    "class Node(): #class node\n",
    "    def __init__(self,data): #constructor for class node to take data \n",
    "        self.data=data #assign data to the given value\n",
    "        self.next=None #next pointer is none\n",
    "        \n",
    "        \n",
    "        \n",
    "a=Node(3) #make a node of value 3 with next pointer as none \n",
    "b=Node(4)# make a node of value 4 with next pointer as none\n",
    "a.next=b #linking/pointing the next part of node \"a\" to node b\n",
    "print(a)#address of a \n",
    "print(a.next)#address of b is stored in a.next\n",
    "print(b)# address of b\n",
    "        \n",
    "    \n",
    "    "
   ]
  },
  {
   "cell_type": "code",
   "execution_count": null,
   "id": "f262a409",
   "metadata": {},
   "outputs": [],
   "source": []
  }
 ],
 "metadata": {
  "kernelspec": {
   "display_name": "Python 3 (ipykernel)",
   "language": "python",
   "name": "python3"
  },
  "language_info": {
   "codemirror_mode": {
    "name": "ipython",
    "version": 3
   },
   "file_extension": ".py",
   "mimetype": "text/x-python",
   "name": "python",
   "nbconvert_exporter": "python",
   "pygments_lexer": "ipython3",
   "version": "3.9.12"
  }
 },
 "nbformat": 4,
 "nbformat_minor": 5
}
